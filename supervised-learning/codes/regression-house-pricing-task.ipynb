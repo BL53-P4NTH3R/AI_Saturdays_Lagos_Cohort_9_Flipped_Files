{
 "cells": [
  {
   "cell_type": "markdown",
   "id": "be89fda9",
   "metadata": {},
   "source": [
    "# House Pricing Prediction Project\n",
    "\n",
    "In this project, we aim to build a predictive model to estimate house prices based on various features such as location, size, number of bedrooms, and other relevant attributes. Accurate house price prediction is valuable for buyers, sellers, and real estate professionals to make informed decisions. We will explore the dataset, perform data preprocessing, conduct exploratory data analysis, and apply machine learning algorithms to develop a robust prediction model. The workflow will include data cleaning, feature engineering, model selection, evaluation, and interpretation of results."
   ]
  },
  {
   "cell_type": "code",
   "execution_count": 1,
   "id": "3f3c262a",
   "metadata": {},
   "outputs": [],
   "source": [
    "import pandas as pd\n",
    "import numpy as np\n",
    "import matplotlib.pyplot as plt\n",
    "import seaborn as sns\n"
   ]
  },
  {
   "cell_type": "code",
   "execution_count": 4,
   "id": "4a5b8613",
   "metadata": {},
   "outputs": [
    {
     "data": {
      "application/vnd.microsoft.datawrangler.viewer.v0+json": {
       "columns": [
        {
         "name": "index",
         "rawType": "int64",
         "type": "integer"
        },
        {
         "name": "SquareFeet",
         "rawType": "int64",
         "type": "integer"
        },
        {
         "name": "Bedrooms",
         "rawType": "int64",
         "type": "integer"
        },
        {
         "name": "Bathrooms",
         "rawType": "int64",
         "type": "integer"
        },
        {
         "name": "Neighborhood",
         "rawType": "object",
         "type": "string"
        },
        {
         "name": "YearBuilt",
         "rawType": "int64",
         "type": "integer"
        },
        {
         "name": "Price",
         "rawType": "float64",
         "type": "float"
        }
       ],
       "ref": "4e2d453e-a52e-42cd-8e4a-f52b2e565092",
       "rows": [
        [
         "0",
         "2126",
         "4",
         "1",
         "Rural",
         "1969",
         "215355.28361820136"
        ],
        [
         "1",
         "2459",
         "3",
         "2",
         "Rural",
         "1980",
         "195014.22162584803"
        ],
        [
         "2",
         "1860",
         "2",
         "1",
         "Suburb",
         "1970",
         "306891.0120763329"
        ],
        [
         "3",
         "2294",
         "2",
         "1",
         "Urban",
         "1996",
         "206786.78715332696"
        ],
        [
         "4",
         "2130",
         "5",
         "2",
         "Suburb",
         "2001",
         "272436.239065061"
        ]
       ],
       "shape": {
        "columns": 6,
        "rows": 5
       }
      },
      "text/html": [
       "<div>\n",
       "<style scoped>\n",
       "    .dataframe tbody tr th:only-of-type {\n",
       "        vertical-align: middle;\n",
       "    }\n",
       "\n",
       "    .dataframe tbody tr th {\n",
       "        vertical-align: top;\n",
       "    }\n",
       "\n",
       "    .dataframe thead th {\n",
       "        text-align: right;\n",
       "    }\n",
       "</style>\n",
       "<table border=\"1\" class=\"dataframe\">\n",
       "  <thead>\n",
       "    <tr style=\"text-align: right;\">\n",
       "      <th></th>\n",
       "      <th>SquareFeet</th>\n",
       "      <th>Bedrooms</th>\n",
       "      <th>Bathrooms</th>\n",
       "      <th>Neighborhood</th>\n",
       "      <th>YearBuilt</th>\n",
       "      <th>Price</th>\n",
       "    </tr>\n",
       "  </thead>\n",
       "  <tbody>\n",
       "    <tr>\n",
       "      <th>0</th>\n",
       "      <td>2126</td>\n",
       "      <td>4</td>\n",
       "      <td>1</td>\n",
       "      <td>Rural</td>\n",
       "      <td>1969</td>\n",
       "      <td>215355.283618</td>\n",
       "    </tr>\n",
       "    <tr>\n",
       "      <th>1</th>\n",
       "      <td>2459</td>\n",
       "      <td>3</td>\n",
       "      <td>2</td>\n",
       "      <td>Rural</td>\n",
       "      <td>1980</td>\n",
       "      <td>195014.221626</td>\n",
       "    </tr>\n",
       "    <tr>\n",
       "      <th>2</th>\n",
       "      <td>1860</td>\n",
       "      <td>2</td>\n",
       "      <td>1</td>\n",
       "      <td>Suburb</td>\n",
       "      <td>1970</td>\n",
       "      <td>306891.012076</td>\n",
       "    </tr>\n",
       "    <tr>\n",
       "      <th>3</th>\n",
       "      <td>2294</td>\n",
       "      <td>2</td>\n",
       "      <td>1</td>\n",
       "      <td>Urban</td>\n",
       "      <td>1996</td>\n",
       "      <td>206786.787153</td>\n",
       "    </tr>\n",
       "    <tr>\n",
       "      <th>4</th>\n",
       "      <td>2130</td>\n",
       "      <td>5</td>\n",
       "      <td>2</td>\n",
       "      <td>Suburb</td>\n",
       "      <td>2001</td>\n",
       "      <td>272436.239065</td>\n",
       "    </tr>\n",
       "  </tbody>\n",
       "</table>\n",
       "</div>"
      ],
      "text/plain": [
       "   SquareFeet  Bedrooms  Bathrooms Neighborhood  YearBuilt          Price\n",
       "0        2126         4          1        Rural       1969  215355.283618\n",
       "1        2459         3          2        Rural       1980  195014.221626\n",
       "2        1860         2          1       Suburb       1970  306891.012076\n",
       "3        2294         2          1        Urban       1996  206786.787153\n",
       "4        2130         5          2       Suburb       2001  272436.239065"
      ]
     },
     "execution_count": 4,
     "metadata": {},
     "output_type": "execute_result"
    }
   ],
   "source": [
    "df = pd.read_csv('../datasets/housing_price_dataset.csv')\n",
    "df.head()"
   ]
  },
  {
   "cell_type": "code",
   "execution_count": 5,
   "id": "364bcbed",
   "metadata": {},
   "outputs": [
    {
     "name": "stdout",
     "output_type": "stream",
     "text": [
      "<class 'pandas.core.frame.DataFrame'>\n",
      "RangeIndex: 50000 entries, 0 to 49999\n",
      "Data columns (total 6 columns):\n",
      " #   Column        Non-Null Count  Dtype  \n",
      "---  ------        --------------  -----  \n",
      " 0   SquareFeet    50000 non-null  int64  \n",
      " 1   Bedrooms      50000 non-null  int64  \n",
      " 2   Bathrooms     50000 non-null  int64  \n",
      " 3   Neighborhood  50000 non-null  object \n",
      " 4   YearBuilt     50000 non-null  int64  \n",
      " 5   Price         50000 non-null  float64\n",
      "dtypes: float64(1), int64(4), object(1)\n",
      "memory usage: 2.3+ MB\n"
     ]
    }
   ],
   "source": [
    "df.info()"
   ]
  },
  {
   "cell_type": "code",
   "execution_count": 7,
   "id": "4142b546",
   "metadata": {},
   "outputs": [
    {
     "data": {
      "text/plain": [
       "Index(['SquareFeet', 'Bedrooms', 'Bathrooms', 'Neighborhood', 'YearBuilt',\n",
       "       'Price'],\n",
       "      dtype='object')"
      ]
     },
     "execution_count": 7,
     "metadata": {},
     "output_type": "execute_result"
    }
   ],
   "source": [
    "df.columns"
   ]
  },
  {
   "cell_type": "code",
   "execution_count": 8,
   "id": "826fb8bf",
   "metadata": {},
   "outputs": [
    {
     "data": {
      "application/vnd.microsoft.datawrangler.viewer.v0+json": {
       "columns": [
        {
         "name": "index",
         "rawType": "object",
         "type": "string"
        },
        {
         "name": "0",
         "rawType": "int64",
         "type": "integer"
        }
       ],
       "ref": "0c3ec753-08cb-4ab7-9dfe-87fa361780cc",
       "rows": [
        [
         "SquareFeet",
         "0"
        ],
        [
         "Bedrooms",
         "0"
        ],
        [
         "Bathrooms",
         "0"
        ],
        [
         "Neighborhood",
         "0"
        ],
        [
         "YearBuilt",
         "0"
        ],
        [
         "Price",
         "0"
        ]
       ],
       "shape": {
        "columns": 1,
        "rows": 6
       }
      },
      "text/plain": [
       "SquareFeet      0\n",
       "Bedrooms        0\n",
       "Bathrooms       0\n",
       "Neighborhood    0\n",
       "YearBuilt       0\n",
       "Price           0\n",
       "dtype: int64"
      ]
     },
     "execution_count": 8,
     "metadata": {},
     "output_type": "execute_result"
    }
   ],
   "source": [
    "df.isna().sum()"
   ]
  },
  {
   "cell_type": "code",
   "execution_count": 9,
   "id": "535749bb",
   "metadata": {},
   "outputs": [
    {
     "data": {
      "application/vnd.microsoft.datawrangler.viewer.v0+json": {
       "columns": [
        {
         "name": "Neighborhood",
         "rawType": "object",
         "type": "string"
        },
        {
         "name": "count",
         "rawType": "int64",
         "type": "integer"
        }
       ],
       "ref": "7a4f77c6-f694-4756-a634-964cd9f013bf",
       "rows": [
        [
         "Suburb",
         "16721"
        ],
        [
         "Rural",
         "16676"
        ],
        [
         "Urban",
         "16603"
        ]
       ],
       "shape": {
        "columns": 1,
        "rows": 3
       }
      },
      "text/plain": [
       "Neighborhood\n",
       "Suburb    16721\n",
       "Rural     16676\n",
       "Urban     16603\n",
       "Name: count, dtype: int64"
      ]
     },
     "execution_count": 9,
     "metadata": {},
     "output_type": "execute_result"
    }
   ],
   "source": [
    "df['Neighborhood'].value_counts()"
   ]
  },
  {
   "cell_type": "code",
   "execution_count": 11,
   "id": "1e736b43",
   "metadata": {},
   "outputs": [],
   "source": [
    "from sklearn.model_selection import train_test_split\n",
    "from sklearn.linear_model import LinearRegression\n",
    "from sklearn.metrics import mean_absolute_error, mean_squared_error, r2_score\n",
    "from sklearn.preprocessing import OneHotEncoder\n",
    "from sklearn.compose import ColumnTransformer\n",
    "\n",
    "# Encoding categorical features\n",
    "categorical_features = ['Neighborhood']\n",
    "\n",
    "# Numerical features\n",
    "numerical_features = ['SquareFeet', 'Bedrooms', 'Bathrooms', 'YearBuilt']\n",
    "\n",
    "preprocessor = ColumnTransformer(\n",
    "    transformers=[\n",
    "        ('cat', OneHotEncoder(handle_unknown='ignore'), categorical_features),\n",
    "        ('num', 'passthrough', numerical_features)\n",
    "    ]\n",
    ")\n",
    "\n",
    "x = df.drop('Price', axis=1)\n",
    "\n",
    "y = df['Price']\n",
    "\n",
    "x_processed = preprocessor.fit_transform(x)\n",
    "\n",
    "\n",
    "# Splitting the dataset\n",
    "x_train, x_test, y_train, y_test = train_test_split(x_processed, y, test_size=0.2, random_state=42)"
   ]
  },
  {
   "cell_type": "code",
   "execution_count": 18,
   "id": "dd8d093b",
   "metadata": {},
   "outputs": [],
   "source": [
    "# Training function\n",
    "def train_model(model: dict, x_train: list[float], y_train: list[float]) -> dict:\n",
    "    \"\"\"\n",
    "    Trains a regression model and returns the trained model.\n",
    "    \"\"\"\n",
    "    for model_instance in model.values():\n",
    "        model_instance.fit(x_train, y_train)\n",
    "    return model\n",
    "\n",
    "# Evaluation function\n",
    "def evaluate_model(model: dict, x_test: list[float], y_test: list[float]) -> dict:\n",
    "    \"\"\"\n",
    "    Evaluates a regression model and returns the evaluation metrics.\n",
    "    \"\"\"\n",
    "    metrics = {}\n",
    "    for name, model_instance in model.items():\n",
    "        y_pred = model_instance.predict(x_test)\n",
    "        mae = mean_absolute_error(y_test, y_pred)\n",
    "        mse = mean_squared_error(y_test, y_pred)\n",
    "        rmse = np.sqrt(mse).tolist()\n",
    "        r2 = r2_score(y_test, y_pred)\n",
    "        metrics[name] = {\n",
    "            'MAE': mae,\n",
    "            'MSE': mse,\n",
    "            'RMSE': rmse,\n",
    "            'R2': r2\n",
    "        }\n",
    "    return metrics\n",
    "        "
   ]
  },
  {
   "cell_type": "code",
   "execution_count": 13,
   "id": "856c5d66",
   "metadata": {},
   "outputs": [],
   "source": [
    "# Import the models\n",
    "from sklearn.linear_model import LinearRegression\n",
    "from sklearn.tree import DecisionTreeRegressor\n",
    "from sklearn.svm import SVR\n",
    "\n",
    "# Define the models\n",
    "models = {\n",
    "    'lr': LinearRegression(),\n",
    "    'dt': DecisionTreeRegressor(),\n",
    "    'svr': SVR()\n",
    "}\n",
    "\n",
    "# Train the models\n",
    "trained_models = train_model(models, x_train, y_train)"
   ]
  },
  {
   "cell_type": "code",
   "execution_count": 19,
   "id": "4023f560",
   "metadata": {},
   "outputs": [
    {
     "data": {
      "text/plain": [
       "{'lr': {'MAE': 39430.16533829791,\n",
       "  'MSE': 2436249371.3072467,\n",
       "  'RMSE': 49358.376911191546,\n",
       "  'R2': 0.5755628630306235},\n",
       " 'dt': {'MAE': 57810.949359091006,\n",
       "  'MSE': 5219313230.096428,\n",
       "  'RMSE': 72244.81455506982,\n",
       "  'R2': 0.09070459271587494},\n",
       " 'svr': {'MAE': 60220.8876894738,\n",
       "  'MSE': 5475024929.261311,\n",
       "  'RMSE': 73993.41139088878,\n",
       "  'R2': 0.04615515423828587}}"
      ]
     },
     "execution_count": 19,
     "metadata": {},
     "output_type": "execute_result"
    }
   ],
   "source": [
    "# Evaluate the models\n",
    "evaluation_metrics = evaluate_model(trained_models, x_test, y_test)\n",
    "evaluation_metrics"
   ]
  },
  {
   "cell_type": "code",
   "execution_count": null,
   "id": "489e65aa",
   "metadata": {},
   "outputs": [],
   "source": []
  }
 ],
 "metadata": {
  "kernelspec": {
   "display_name": "ai_saturday_venv (3.13.6)",
   "language": "python",
   "name": "python3"
  },
  "language_info": {
   "codemirror_mode": {
    "name": "ipython",
    "version": 3
   },
   "file_extension": ".py",
   "mimetype": "text/x-python",
   "name": "python",
   "nbconvert_exporter": "python",
   "pygments_lexer": "ipython3",
   "version": "3.13.6"
  }
 },
 "nbformat": 4,
 "nbformat_minor": 5
}
